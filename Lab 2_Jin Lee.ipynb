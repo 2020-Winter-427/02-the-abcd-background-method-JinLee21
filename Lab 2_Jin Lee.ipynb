{
 "cells": [
  {
   "cell_type": "markdown",
   "metadata": {},
   "source": [
    "# Lab 2 / Background"
   ]
  },
  {
   "cell_type": "markdown",
   "metadata": {},
   "source": [
    "PHYS 427\\\n",
    "1/21/2020 (Tue)\\\n",
    "Jin Kyoung Lee"
   ]
  },
  {
   "cell_type": "code",
   "execution_count": 1,
   "metadata": {},
   "outputs": [],
   "source": [
    "# Importing libraries\n",
    "%matplotlib inline\n",
    "import numpy as np\n",
    "import matplotlib\n",
    "import matplotlib.pyplot as plt\n",
    "from IPython.display import display, Math, Latex"
   ]
  },
  {
   "cell_type": "markdown",
   "metadata": {},
   "source": [
    "### 1. Mathematical proof of ABCD method\n",
    "\n",
    "If there is a distribution of two different variables, x and y, we can divide the xy-plane into four regions, A, B, C, and D, to find out the background of the distribution."
   ]
  },
  {
   "cell_type": "code",
   "execution_count": 2,
   "metadata": {},
   "outputs": [
    {
     "data": {
      "text/plain": [
       "Text(0, 0.5, 'random dataY')"
      ]
     },
     "execution_count": 2,
     "metadata": {},
     "output_type": "execute_result"
    },
    {
     "data": {
      "image/png": "[encoded data removed]",
      "text/plain": [
       "<Figure size 432x288 with 1 Axes>"
      ]
     },
     "metadata": {
      "needs_background": "light"
     },
     "output_type": "display_data"
    }
   ],
   "source": [
    "# Creating sample plot to show how the regions are divided\n",
    "\n",
    "def dottedLine(x1,x2,y1,y2): # Defining functino for dotted line dividing the region\n",
    "    plt.plot([x1,x2], [y1,y2], '--k')\n",
    "\n",
    "def region(region,x,y): # Defining function for labeling the region\n",
    "    plt.annotate(region, xy = (x,y))\n",
    "\n",
    "# Plotting the sample plot\n",
    "dottedLine(0.5,0.5,0,1)\n",
    "dottedLine(1,0,0.5,0.5)\n",
    "\n",
    "# Labeling the regions\n",
    "region(\"A\\n(signal)\",0.7,0.7)\n",
    "region(\"B\",0.2,0.75)\n",
    "region(\"D\",0.2,0.2)\n",
    "region(\"C\",0.75,0.2)\n",
    "\n",
    "# Labeling x and y axis\n",
    "plt.xlabel('random data X')\n",
    "plt.ylabel('random dataY')"
   ]
  },
  {
   "cell_type": "markdown",
   "metadata": {},
   "source": [
    "From above four regions, we can look for the background distribution by showing that B/D = A/C, as long as f(x,y) = f_1(x) * f_2(y) is satisfied.\n",
    "\n",
    "To prove that B/C = A/C, when f(x,y) = f_1(x) * f_2(y), first, we assume that the xy-plane goes from (0,0) to (b,b), and also assume that the line that divides the region is at x = a, and y = a. Then, we can find out the total count of each region by integrating each region."
   ]
  },
  {
   "cell_type": "markdown",
   "metadata": {},
   "source": [
    "$f(x,y) = f_1(x) f_2(y)$\\\n",
    "\\\n",
    "Region B : Integrating $f_1(x)$ from $0$ to $a$ and $f_2(y)$ from $a$ to $b$\\\n",
    "$\\int_{a}^{b} \\int_{0}^{a} f(x,y) dx dy = \\int_{0}^{a} f_1(x) dx \\int_{a}^{b} f_2(y) dy = [F_1(a) - F_1(0)] [F_2(b) - F_2(a)]$\\\n",
    "\\\n",
    "Region D: Integrating $f_1(x)$ from $0$ to $a$ and $f_2(y)$ from $0$ to $a$\\\n",
    "$\\int_{0}^{a} \\int_{0}^{a} f(x,y) dx dy = \\int_{0}^{a} f_1(x) dx \\int_{0}^{a} f_2(y) dy = [F_1(a) - F_1(0)] [F_2(a) - F_2(0)]$\\\n",
    "\\\n",
    "Region A: Integrating $f_1(x)$ from $a$ to $b$ and $f_2(y)$ from $a$ to $b$\\\n",
    "$\\int_{a}^{b} \\int_{a}^{b} f(x,y) dx dy = \\int_{a}^{b} f_1(x) dx \\int_{a}^{b} f_2(y) dy = [F_1(b) - F_1(a)] [F_2(b) - F_2(a)]$\\\n",
    "\\\n",
    "Region C: Integrating $f_1(x)$ from $0$ to $a$ and $f_2(y)$ from $0$ to $a$\\\n",
    "$\\int_{0}^{a} \\int_{a}^{b} f(x,y) dx dy = \\int_{a}^{b} f_1(x) dx \\int_{0}^{a} f_2(y) dy = [F_1(b) - F_1(a)] [F_2(a) - F_2(0)]$\\\n",
    "\\\n",
    "$\\frac{B}{D} = \\frac{[F_1(a) - F_1(0)][F_2(b) - F_2(a)]}{[F_1(a) - F_1(0)][F_2(a) - F_2(0)]} = \\frac{[F_2(b) - F_2(a)]}{[F_2(a) - F_2(0)]}$\\\n",
    "\\\n",
    "$\\frac{A}{C} = \\frac{[F_1(b) - F_1(a)][F_2(b) - F_2(a)]}{[F_1(b) - F_1(a)][F_2(a) - F_2(0)]} = \\frac{[F_2(b) - F_2(a)]}{[F_2(a) - F_2(0)]}$"
   ]
  },
  {
   "cell_type": "markdown",
   "metadata": {},
   "source": [
    "From above results, we can see that $\\frac{B}{D} = \\frac{A}{C}$"
   ]
  },
  {
   "cell_type": "markdown",
   "metadata": {},
   "source": [
    "### 2. Estimating background from data using ABCD method"
   ]
  },
  {
   "cell_type": "code",
   "execution_count": 3,
   "metadata": {},
   "outputs": [],
   "source": [
    "# Defining function for ABCD method\n",
    "def abcd(arrX,arrY):\n",
    "    \n",
    "    # Getting the number of points that are in the region less than 0.6\n",
    "    filtLessX = filter(lambda x:x<0.6, randDataX) # x < 0.6\n",
    "    lessX = list(filtLessX)\n",
    "    filtLessY = filter(lambda y:y<0.6, randDataY) # y < 0.6\n",
    "    lessY = list(filtLessY)\n",
    "    \n",
    "    # Getting the number of points taht are in the region greater than 0.6\n",
    "    filtGreaterX = filter(lambda x:x>0.6, randDataX) # x > 0.6\n",
    "    greaterX = list(filtGreaterX)\n",
    "    filtGreaterY = filter(lambda y:y>0.6, randDataY) # y > 0.6\n",
    "    greaterY = list(filtGreaterY)\n",
    "    \n",
    "    # Finding the area of each region to get the ratio (B/D = A/C)\n",
    "    regionAreaB = len(lessX) * len(greaterY)\n",
    "    regionAreaC = len(greaterX) * len(lessY)\n",
    "    regionAreaA = len(greaterX) * len(greaterY)\n",
    "    regionAreaD = len(lessX) * len(lessY)\n",
    "    \n",
    "    # Calculating the ratio (B/C = A/C)\n",
    "    ratioBD = regionAreaB / regionAreaD\n",
    "    ratioAC = regionAreaA / regionAreaC\n",
    "    \n",
    "    # Calculating the number of points that are in region A by using ratio\n",
    "    if ratioBD == ratioAC:\n",
    "        pointsCountA = len(greaterY)\n",
    "        pointsDeductA = len(lessX) * (1 - ratioBD)\n",
    "        countRegionA = pointsCountA - pointsDeductA\n",
    "        return round(countRegionA)\n",
    "    else:\n",
    "        return"
   ]
  },
  {
   "cell_type": "code",
   "execution_count": 4,
   "metadata": {},
   "outputs": [],
   "source": [
    "# Generating two random uniform distributions (1000 entries between 0 and 1)\n",
    "randDataX = np.random.uniform(0,1,1000)\n",
    "randDataY = np.random.uniform(0,1,1000)"
   ]
  },
  {
   "cell_type": "code",
   "execution_count": 5,
   "metadata": {},
   "outputs": [
    {
     "data": {
      "text/plain": [
       "Text(0, 0.5, 'Random uniform distribution Y')"
      ]
     },
     "execution_count": 5,
     "metadata": {},
     "output_type": "execute_result"
    },
    {
     "data": {
      "image/png": "[encoded data removed]",
      "text/plain": [
       "<Figure size 432x288 with 1 Axes>"
      ]
     },
     "metadata": {
      "needs_background": "light"
     },
     "output_type": "display_data"
    }
   ],
   "source": [
    "# Plotting scatterplot of two random data\n",
    "plt.scatter(randDataX,randDataY,s=1)\n",
    "\n",
    "dottedLine(0.6,0.6,0,1) # x = 0.6\n",
    "dottedLine(1,0,0.6,0.6) # y = 0.6\n",
    "\n",
    "region(\"A\\n(signal)\",0.8,0.8)\n",
    "region(\"B\",0.3,0.8)\n",
    "region(\"C\",0.8,0.3)\n",
    "region(\"D\",0.3,0.3)\n",
    "\n",
    "plt.xlabel('Random uniform distribution X')\n",
    "plt.ylabel('Random uniform distribution Y')"
   ]
  },
  {
   "cell_type": "code",
   "execution_count": 6,
   "metadata": {},
   "outputs": [
    {
     "name": "stdout",
     "output_type": "stream",
     "text": [
      "The actual number of counts of region A is 214\n"
     ]
    }
   ],
   "source": [
    " # Using the function abcd() to compare the actual and predicted number of points in region A\n",
    "actualA = abcd(randDataX,randDataY)\n",
    "print(\"The actual number of counts of region A is\", actualA)"
   ]
  },
  {
   "cell_type": "code",
   "execution_count": 7,
   "metadata": {},
   "outputs": [
    {
     "name": "stdout",
     "output_type": "stream",
     "text": [
      "The difference is 54\n"
     ]
    }
   ],
   "source": [
    "predictedA = 160\n",
    "diffA = actualA - predictedA\n",
    "print(\"The difference is\", diffA)"
   ]
  },
  {
   "cell_type": "markdown",
   "metadata": {},
   "source": [
    "### 3. Iterating 1000 times and finding the distribution of difference"
   ]
  },
  {
   "cell_type": "code",
   "execution_count": 8,
   "metadata": {},
   "outputs": [],
   "source": [
    "# Iterating 1000 times\n",
    "diffList = []\n",
    "for _ in range(1000):\n",
    "    randDataX = np.random.uniform(0,1,1000)\n",
    "    randDataY = np.random.uniform(0,1,1000)\n",
    "    predictedA = 160 # predicted number of points in region A\n",
    "    countA = abcd(randDataX,randDataY)\n",
    "    diff = countA - predictedA\n",
    "    diffList.append(diff) # putting the outputs into one list"
   ]
  },
  {
   "cell_type": "code",
   "execution_count": 9,
   "metadata": {},
   "outputs": [
    {
     "data": {
      "text/plain": [
       "Text(0, 0.5, 'Frequency')"
      ]
     },
     "execution_count": 9,
     "metadata": {},
     "output_type": "execute_result"
    },
    {
     "data": {
      "image/png": "[encoded data removed]",
      "text/plain": [
       "<Figure size 432x288 with 1 Axes>"
      ]
     },
     "metadata": {
      "needs_background": "light"
     },
     "output_type": "display_data"
    }
   ],
   "source": [
    "# Plotting the histogram of difference\n",
    "plt.hist(diffList, bins = 50)\n",
    "plt.xlabel('Difference between actual and predicted A')\n",
    "plt.ylabel('Frequency')"
   ]
  },
  {
   "cell_type": "code",
   "execution_count": 10,
   "metadata": {},
   "outputs": [
    {
     "name": "stdout",
     "output_type": "stream",
     "text": [
      "std = 41.108963061600086\n"
     ]
    }
   ],
   "source": [
    "sigma = np.std(diffList)\n",
    "print(\"std =\", sigma)"
   ]
  },
  {
   "cell_type": "markdown",
   "metadata": {},
   "source": [
    "From the above histogram, it is observed that the resulting histogram of difference between actual number of points and predicted number of points of region A looks gaussian; however, it cannot be said that this is exactly a gaussian distribution because it is not symmetrical about the mean.  Also, the negative values indicates that the actual number of points in region A is less than the predicted number of points."
   ]
  },
  {
   "cell_type": "markdown",
   "metadata": {},
   "source": [
    "### 4. Varying the size of the statistics\n",
    "\n",
    "starting with 10 events, then do 100, 500, 1000, 5000, 10000, 50000"
   ]
  },
  {
   "cell_type": "markdown",
   "metadata": {},
   "source": [
    "(I have not fully understood part 4, and also was not sure about varying the size of the statistics, therefore, I have increased the data size and looked up for its standard deviation. Also, for part 4, I have used the same code for every event, so it will look very unorganized. Will work on more on defining function in python.)"
   ]
  },
  {
   "cell_type": "code",
   "execution_count": 11,
   "metadata": {},
   "outputs": [
    {
     "name": "stdout",
     "output_type": "stream",
     "text": [
      "13.436215985164871\n"
     ]
    },
    {
     "data": {
      "image/png": "[encoded data removed]",
      "text/plain": [
       "<Figure size 432x288 with 1 Axes>"
      ]
     },
     "metadata": {
      "needs_background": "light"
     },
     "output_type": "display_data"
    }
   ],
   "source": [
    "diffList = []\n",
    "for _ in range(1000):\n",
    "    randDataX = np.random.uniform(0,1,100)\n",
    "    randDataY = np.random.uniform(0,1,100)\n",
    "    predictedA = 16 # predicted number of points in region A\n",
    "    countA = abcd(randDataX,randDataY)\n",
    "    diff = countA - predictedA\n",
    "    diffList.append(diff)\n",
    "    \n",
    "# Plotting the histogram of difference\n",
    "plt.hist(diffList, bins = 30)\n",
    "plt.xlabel('Difference between actual and predicted A')\n",
    "plt.ylabel('Frequency')\n",
    "sigma = np.std(diffList)\n",
    "print(sigma)"
   ]
  },
  {
   "cell_type": "code",
   "execution_count": 12,
   "metadata": {},
   "outputs": [
    {
     "name": "stdout",
     "output_type": "stream",
     "text": [
      "41.73609755355668\n"
     ]
    },
    {
     "data": {
      "image/png": "[encoded data removed]",
      "text/plain": [
       "<Figure size 432x288 with 1 Axes>"
      ]
     },
     "metadata": {
      "needs_background": "light"
     },
     "output_type": "display_data"
    }
   ],
   "source": [
    "diffList = []\n",
    "for _ in range(1000):\n",
    "    randDataX = np.random.uniform(0,1,1000)\n",
    "    randDataY = np.random.uniform(0,1,1000)\n",
    "    predictedA = 160 # predicted number of points in region A\n",
    "    countA = abcd(randDataX,randDataY)\n",
    "    diff = countA - predictedA\n",
    "    diffList.append(diff)\n",
    "    \n",
    "# Plotting the histogram of difference\n",
    "plt.hist(diffList, bins = 50)\n",
    "plt.xlabel('Difference between actual and predicted A')\n",
    "plt.ylabel('Frequency')\n",
    "sigma = np.std(diffList)\n",
    "print(sigma)"
   ]
  },
  {
   "cell_type": "code",
   "execution_count": 13,
   "metadata": {},
   "outputs": [
    {
     "name": "stdout",
     "output_type": "stream",
     "text": [
      "93.3518630558598\n"
     ]
    },
    {
     "data": {
      "image/png": "[encoded data removed]",
      "text/plain": [
       "<Figure size 432x288 with 1 Axes>"
      ]
     },
     "metadata": {
      "needs_background": "light"
     },
     "output_type": "display_data"
    }
   ],
   "source": [
    "diffList = []\n",
    "for _ in range(1000):\n",
    "    randDataX = np.random.uniform(0,1,5000)\n",
    "    randDataY = np.random.uniform(0,1,5000)\n",
    "    predictedA = 800 # predicted number of points in region A\n",
    "    countA = abcd(randDataX,randDataY)\n",
    "    diff = countA - predictedA\n",
    "    diffList.append(diff)\n",
    "    \n",
    "# Plotting the histogram of difference\n",
    "plt.hist(diffList, bins = 50)\n",
    "plt.xlabel('Difference between actual and predicted A')\n",
    "plt.ylabel('Frequency')\n",
    "sigma = np.std(diffList)\n",
    "print(sigma)"
   ]
  },
  {
   "cell_type": "code",
   "execution_count": 14,
   "metadata": {},
   "outputs": [
    {
     "name": "stdout",
     "output_type": "stream",
     "text": [
      "126.10574457969787\n"
     ]
    },
    {
     "data": {
      "image/png": "[encoded data removed]",
      "text/plain": [
       "<Figure size 432x288 with 1 Axes>"
      ]
     },
     "metadata": {
      "needs_background": "light"
     },
     "output_type": "display_data"
    }
   ],
   "source": [
    "diffList = []\n",
    "for _ in range(1000):\n",
    "    randDataX = np.random.uniform(0,1,10000)\n",
    "    randDataY = np.random.uniform(0,1,10000)\n",
    "    predictedA = 1600 # predicted number of points in region A\n",
    "    countA = abcd(randDataX,randDataY)\n",
    "    diff = countA - predictedA\n",
    "    diffList.append(diff)\n",
    "    \n",
    "# Plotting the histogram of difference\n",
    "plt.hist(diffList, bins = 50)\n",
    "plt.xlabel('Difference between actual and predicted A')\n",
    "plt.ylabel('Frequency')\n",
    "sigma = np.std(diffList)\n",
    "print(sigma)"
   ]
  },
  {
   "cell_type": "code",
   "execution_count": 15,
   "metadata": {},
   "outputs": [
    {
     "name": "stdout",
     "output_type": "stream",
     "text": [
      "291.01317667590246\n"
     ]
    },
    {
     "data": {
      "image/png": "[encoded data removed]",
      "text/plain": [
       "<Figure size 432x288 with 1 Axes>"
      ]
     },
     "metadata": {
      "needs_background": "light"
     },
     "output_type": "display_data"
    }
   ],
   "source": [
    "diffList = []\n",
    "for _ in range(1000):\n",
    "    randDataX = np.random.uniform(0,1,50000)\n",
    "    randDataY = np.random.uniform(0,1,50000)\n",
    "    predictedA = 8000 # predicted number of points in region A\n",
    "    countA = abcd(randDataX,randDataY)\n",
    "    diff = countA - predictedA\n",
    "    diffList.append(diff)\n",
    "    \n",
    "# Plotting the histogram of difference\n",
    "plt.hist(diffList, bins = 50)\n",
    "plt.xlabel('Difference between actual and predicted A')\n",
    "plt.ylabel('Frequency')\n",
    "sigma = np.std(diffList)\n",
    "print(sigma)"
   ]
  },
  {
   "cell_type": "code",
   "execution_count": null,
   "metadata": {},
   "outputs": [],
   "source": []
  }
 ],
 "metadata": {
  "kernelspec": {
   "display_name": "Python 3",
   "language": "python",
   "name": "python3"
  },
  "language_info": {
   "codemirror_mode": {
    "name": "ipython",
    "version": 3
   },
   "file_extension": ".py",
   "mimetype": "text/x-python",
   "name": "python",
   "nbconvert_exporter": "python",
   "pygments_lexer": "ipython3",
   "version": "3.7.4"
  }
 },
 "nbformat": 4,
 "nbformat_minor": 4
}
